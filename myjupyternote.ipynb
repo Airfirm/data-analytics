{
 "cells": [
  {
   "cell_type": "code",
   "execution_count": 1,
   "id": "a1dfd49d",
   "metadata": {},
   "outputs": [
    {
     "name": "stdout",
     "output_type": "stream",
     "text": [
      "Welcome to Python!\n"
     ]
    }
   ],
   "source": [
    "print('Welcome to Python!')"
   ]
  },
  {
   "cell_type": "code",
   "execution_count": 1,
   "id": "b2d2fcc1",
   "metadata": {},
   "outputs": [
    {
     "name": "stdout",
     "output_type": "stream",
     "text": [
      "x = 2\n",
      "value of 2 + 2 is 4\n",
      "x =\n",
      "5 = 5\n"
     ]
    }
   ],
   "source": [
    "x = 2\n",
    "y = 3\n",
    "\n",
    "print('x =', x)\n",
    "print('value of', x, '+', x, 'is', (x + x))\n",
    "print('x =')\n",
    "print((x + y), '=', (y + x))"
   ]
  },
  {
   "cell_type": "code",
   "execution_count": 2,
   "id": "ef67d18e",
   "metadata": {},
   "outputs": [
    {
     "name": "stdout",
     "output_type": "stream",
     "text": [
      "Poor\n"
     ]
    }
   ],
   "source": [
    "rating = input('Enter an integer rating between 1 and 5: ')\n",
    "if rating == '1':\n",
    "    print('Poor')"
   ]
  },
  {
   "cell_type": "code",
   "execution_count": 3,
   "id": "30dd1cd4",
   "metadata": {},
   "outputs": [],
   "source": [
    "rating = input('Enter an integer rating between 1 and 10 ')"
   ]
  },
  {
   "cell_type": "code",
   "execution_count": 4,
   "id": "55b4501e",
   "metadata": {},
   "outputs": [
    {
     "name": "stdout",
     "output_type": "stream",
     "text": [
      "Congratulations! Your grade of 91 earns you an A in this course.\n"
     ]
    }
   ],
   "source": [
    "grade = int(input('Enter your grade: '))\n",
    "if grade >= 90:\n",
    "    print(f\"Congratulations! Your grade of {grade} earns you an A in this course.\")"
   ]
  },
  {
   "cell_type": "code",
   "execution_count": 7,
   "id": "2eace6e6",
   "metadata": {},
   "outputs": [
    {
     "name": "stdout",
     "output_type": "stream",
     "text": [
      "29.5\n",
      "25.5\n",
      "55.0\n",
      "13.75\n",
      "13.0\n",
      "1.5\n",
      "756.25\n"
     ]
    }
   ],
   "source": [
    "a = 27.5 + 2\n",
    "b = 27.5 - 2\n",
    "c = 27.5 * 2\n",
    "d = 27.5 / 2\n",
    "e = 27.5 // 2\n",
    "f = 27.5 % 2\n",
    "g = 27.5 ** 2\n",
    "\n",
    "print(a)\n",
    "print(b)\n",
    "print(c)\n",
    "print(d)\n",
    "print(e)\n",
    "print(f)\n",
    "print(g)"
   ]
  },
  {
   "cell_type": "code",
   "execution_count": 8,
   "id": "d2b7db6b",
   "metadata": {},
   "outputs": [
    {
     "name": "stdout",
     "output_type": "stream",
     "text": [
      "1024 is divisible by 4\n"
     ]
    }
   ],
   "source": [
    "if 1024 % 4 == 0:\n",
    "    print('1024 is divisible by 4')"
   ]
  },
  {
   "cell_type": "code",
   "execution_count": 13,
   "id": "9e235382",
   "metadata": {},
   "outputs": [
    {
     "name": "stdout",
     "output_type": "stream",
     "text": [
      "Number\tSquare\tCube\n",
      "\t\t\n",
      "0\t0\t0\n",
      "1\t1\t1\n",
      "2\t4\t8\n",
      "3\t9\t27\n",
      "4\t16\t64\n",
      "5\t25\t125\n"
     ]
    }
   ],
   "source": [
    "print(\"Number\\tSquare\\tCube\") # Header row\n",
    "print(\"\\t\\t\") # Separator line\n",
    "\n",
    "# Print squares and cubes of numbers from 0 to 5\n",
    "\n",
    "for i in range(6):\n",
    "    square = i ** 2\n",
    "    cube = i ** 3\n",
    "    print(f\"{i}\\t{square}\\t{cube}\") # using f-strings and tabs"
   ]
  },
  {
   "cell_type": "code",
   "execution_count": 14,
   "id": "07100a60",
   "metadata": {},
   "outputs": [
    {
     "name": "stdout",
     "output_type": "stream",
     "text": [
      "Number\tSquare\tCube\n",
      "\t\t\n",
      "     0\t     0\t   0\n",
      "     1\t     1\t   1\n",
      "     2\t     4\t   8\n",
      "     3\t     9\t  27\n",
      "     4\t    16\t  64\n",
      "     5\t    25\t 125\n"
     ]
    }
   ],
   "source": [
    "# to right align the output\n",
    "\n",
    "print(\"Number\\tSquare\\tCube\")\n",
    "print(\"\\t\\t\")\n",
    "\n",
    "for num in range(6):\n",
    "    square = num ** 2\n",
    "    cube = num ** 3\n",
    "    print(f\"{num:>6}\\t{num**2:>6}\\t{num**3:>4}\") # right align the output"
   ]
  },
  {
   "cell_type": "code",
   "execution_count": 17,
   "id": "eb58d9f6",
   "metadata": {},
   "outputs": [
    {
     "name": "stdout",
     "output_type": "stream",
     "text": [
      "first_number is: 25\n",
      "second_number is: 40\n",
      "third_number is: 20\n",
      "Sum: 85\n",
      "Average: 28.333333333333332\n",
      "Product: 20000\n",
      "Smallest: 20\n",
      "Largest: 40\n"
     ]
    }
   ],
   "source": [
    "# TODO: Write a script that inputs 3 integers from a user and prints the sum, average, product, smallest, and largest of the three integers.\n",
    "\n",
    "number1 = int(input(\"Enter a number: \"))\n",
    "number2 = int(input(\"Enter a number: \"))\n",
    "number3 = int(input(\"Enter a number: \"))\n",
    "\n",
    "sum_of_numbers = number1 + number2 + number3\n",
    "average_of_numbers = sum_of_numbers / 3\n",
    "product_of_numbers = number1 * number2 * number3\n",
    "smallest_of_numbers = min(number1, number2, number3)\n",
    "largest_of_numbers = max(number1, number2, number3)\n",
    "\n",
    "print(f\"first_number is: {number1}\")\n",
    "print(f\"second_number is: {number2}\")\n",
    "print(f\"third_number is: {number3}\")\n",
    "print(f\"Sum: {sum_of_numbers}\")\n",
    "print(f\"Average: {average_of_numbers}\")\n",
    "print(f\"Product: {product_of_numbers}\")\n",
    "print(f\"Smallest: {smallest_of_numbers}\")\n",
    "print(f\"Largest: {largest_of_numbers}\")"
   ]
  },
  {
   "cell_type": "code",
   "execution_count": 24,
   "id": "f398fd47",
   "metadata": {},
   "outputs": [],
   "source": [
    "numbers = int(input(\"Enter a five digit number: \"))\n",
    "if len(str(numbers)) != 5:\n",
    "    print(\"Please enter a five digit number.\")"
   ]
  },
  {
   "cell_type": "code",
   "execution_count": 29,
   "id": "74cc69b7",
   "metadata": {},
   "outputs": [
    {
     "name": "stdout",
     "output_type": "stream",
     "text": [
      "Digits separated by three spaces:\n",
      "1   2   3   4   5\n"
     ]
    }
   ],
   "source": [
    "# Get input from user\n",
    "number = input(\"Enter a 5-digit integer: \")\n",
    "\n",
    "# Verify input is a 5-digit number\n",
    "if len(number) != 5 or not number.isdigit():\n",
    "    print(\"Please enter exactly 5 digits!\")\n",
    "else:\n",
    "    # Separate digits and join with three spaces\n",
    "    separated_digits = \"   \".join(number)\n",
    "    print(\"Digits separated by three spaces:\")\n",
    "    print(separated_digits)"
   ]
  },
  {
   "cell_type": "code",
   "execution_count": 37,
   "id": "fd4e1f5f",
   "metadata": {},
   "outputs": [
    {
     "name": "stdout",
     "output_type": "stream",
     "text": [
      "1   2   3   4   5\n"
     ]
    }
   ],
   "source": [
    "numbers = int(input(\"Enter a five digit number: \"))\n",
    "if len(str(numbers)) != 5:\n",
    "    print(\"Please enter a five digit number! You have three attempts left.\")\n",
    "    numbers = int(input(\"Enter a five digit number: \")) # Failed attempt\n",
    "    numbers = int(input(\"Enter a five digit number: \")) # Failed attempt\n",
    "    numbers = int(input(\"Enter a five digit number: \")) # Failed attempt\n",
    "else:\n",
    "    separated_digits = \"   \".join(str(numbers))\n",
    "    print(separated_digits)"
   ]
  },
  {
   "cell_type": "code",
   "execution_count": null,
   "id": "ac020760",
   "metadata": {},
   "outputs": [],
   "source": []
  }
 ],
 "metadata": {
  "kernelspec": {
   "display_name": ".venv",
   "language": "python",
   "name": "python3"
  },
  "language_info": {
   "codemirror_mode": {
    "name": "ipython",
    "version": 3
   },
   "file_extension": ".py",
   "mimetype": "text/x-python",
   "name": "python",
   "nbconvert_exporter": "python",
   "pygments_lexer": "ipython3",
   "version": "3.13.3"
  }
 },
 "nbformat": 4,
 "nbformat_minor": 5
}
